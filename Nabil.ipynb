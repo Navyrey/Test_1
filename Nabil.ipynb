{
 "cells": [
  {
   "cell_type": "markdown",
   "id": "a288d180-817b-498f-920e-1e6acecf554e",
   "metadata": {},
   "source": [
    "# **My Jupyter Notebook on IBM Watson Studio** "
   ]
  },
  {
   "cell_type": "markdown",
   "id": "ecc706b5-fda0-4241-a309-aeb1e3654dfd",
   "metadata": {
    "tags": []
   },
   "source": [
    "## **Nabil Chehade Jara**\n"
   ]
  },
  {
   "cell_type": "markdown",
   "id": "15eac146-b223-487b-8404-d77471b46397",
   "metadata": {},
   "source": [
    "Data Scientist"
   ]
  },
  {
   "cell_type": "markdown",
   "id": "9e555d62-9c45-4e90-a91a-380cecbdce94",
   "metadata": {},
   "source": [
    "*I am interested in data science because I love to analyze data*"
   ]
  },
  {
   "cell_type": "markdown",
   "id": "72c76e59-bc71-47d3-9f85-a1e830adef66",
   "metadata": {},
   "source": [
    "### The following code tests the Gauss formula"
   ]
  },
  {
   "cell_type": "code",
   "execution_count": 2,
   "id": "113ab7a9-a189-415f-b011-61862149e86e",
   "metadata": {
    "tags": []
   },
   "outputs": [
    {
     "data": {
      "text/plain": [
       "True"
      ]
     },
     "execution_count": 2,
     "metadata": {},
     "output_type": "execute_result"
    }
   ],
   "source": [
    "def gauss(n):\n",
    "    return (n*(n+1))/2\n",
    "gauss(100) == sum(range(101)) "
   ]
  },
  {
   "cell_type": "markdown",
   "id": "4bcb5fad-de7d-4508-80d1-a2685651dbdd",
   "metadata": {
    "tags": []
   },
   "source": [
    "| Markdown | Less | **Pretty** |\n",
    "|----------|------|------------|\n",
    "| *Still* | renders | **nicely** |\n",
    "| 1 | 2 | 3 | \n",
    "\n",
    "***\n",
    "\n",
    "Be aware of the dog!\n",
    "\n",
    "***\n",
    "\n",
    "<a href=\"https://www.ibm.com\" target=\"_blank\">IBM</a>\n"
   ]
  },
  {
   "cell_type": "code",
   "execution_count": null,
   "id": "845e85c4-b5ee-41cc-a085-cbbfe6a6d52b",
   "metadata": {},
   "outputs": [],
   "source": []
  }
 ],
 "metadata": {
  "kernelspec": {
   "display_name": "Python 3 (ipykernel)",
   "language": "python",
   "name": "python3"
  },
  "language_info": {
   "codemirror_mode": {
    "name": "ipython",
    "version": 3
   },
   "file_extension": ".py",
   "mimetype": "text/x-python",
   "name": "python",
   "nbconvert_exporter": "python",
   "pygments_lexer": "ipython3",
   "version": "3.9.13"
  }
 },
 "nbformat": 4,
 "nbformat_minor": 5
}
